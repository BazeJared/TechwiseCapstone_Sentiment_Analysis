{
 "cells": [
  {
   "cell_type": "code",
   "execution_count": 11,
   "id": "8cfcef10",
   "metadata": {},
   "outputs": [],
   "source": [
    "!pip install -q pandas scikit-learn textstat joblib"
   ]
  },
  {
   "cell_type": "code",
   "execution_count": 12,
   "id": "cd9c7db1",
   "metadata": {},
   "outputs": [],
   "source": [
    "\n",
    "import pandas as pd\n",
    "import re\n",
    "import textstat\n",
    "import joblib\n",
    "from sklearn.feature_extraction.text import TfidfVectorizer\n",
    "from sklearn.linear_model import LogisticRegression\n",
    "from sklearn.model_selection import train_test_split\n",
    "from sklearn.metrics import classification_report\n"
   ]
  },
  {
   "cell_type": "code",
   "execution_count": 13,
   "id": "7a11c6fb",
   "metadata": {},
   "outputs": [
    {
     "name": "stderr",
     "output_type": "stream",
     "text": [
      "C:\\Users\\bazej\\AppData\\Local\\Temp\\ipykernel_11492\\2843796476.py:19: DeprecationWarning: The 'avg_sentence_length' method has been deprecated due to being the same as 'words_per_sentence'. This method will be removed in thefuture.\n",
      "  avg_len = textstat.avg_sentence_length(text)\n"
     ]
    }
   ],
   "source": [
    "\n",
    "df = pd.read_csv('training.1600000.processed.noemoticon.csv', encoding='latin-1', header=None)\n",
    "df = df[[0, 5]]\n",
    "df.columns = ['label', 'text']\n",
    "df = df.sample(5000).reset_index(drop=True)\n",
    "\n",
    "def advanced_professionalism_score(text):\n",
    "    text = text.lower()\n",
    "    score = 0\n",
    "    if re.search(r\"\\b(yo|dude|bro|u|lmao|lol|wtf|gonna|wanna|thx|btw)\\b\", text):\n",
    "        score -= 2\n",
    "    if re.search(r\"(regards|sincerely|kindly|thank you|attached|please find|i hope this email|looking forward to working)\", text):\n",
    "        score += 3  # Stronger reward for formal phrases\n",
    "    if \"'\" in text or re.search(r\"\\b(can't|won't|i'm|it's|don't)\\b\", text):\n",
    "        score -= 1\n",
    "    try:\n",
    "        grade = textstat.flesch_kincaid_grade(text)\n",
    "        if grade > 10: score += 1\n",
    "        elif grade < 6: score -= 1\n",
    "        avg_len = textstat.avg_sentence_length(text)\n",
    "        if avg_len > 15: score += 1\n",
    "        elif avg_len < 8: score -= 1\n",
    "    except:\n",
    "        pass\n",
    "    return 0 if score <= -1 else 1 if score <= 1 else 2\n",
    "\n",
    "df['label'] = df['text'].apply(advanced_professionalism_score)\n",
    "\n",
    "def clean(text):\n",
    "    text = re.sub(r\"http\\S+\", \"\", text)\n",
    "    text = re.sub(r\"[^a-zA-Z ]\", \"\", text)\n",
    "    return text.lower()\n",
    "\n",
    "df['text_clean'] = df['text'].apply(clean)\n"
   ]
  },
  {
   "cell_type": "code",
   "execution_count": 14,
   "id": "ca00161c",
   "metadata": {},
   "outputs": [
    {
     "name": "stdout",
     "output_type": "stream",
     "text": [
      "              precision    recall  f1-score   support\n",
      "\n",
      "           0       0.82      1.00      0.90       409\n",
      "           1       0.00      0.00      0.00        83\n",
      "           2       0.00      0.00      0.00         8\n",
      "\n",
      "    accuracy                           0.82       500\n",
      "   macro avg       0.27      0.33      0.30       500\n",
      "weighted avg       0.67      0.82      0.74       500\n",
      "\n"
     ]
    },
    {
     "name": "stderr",
     "output_type": "stream",
     "text": [
      "c:\\Users\\bazej\\Desktop\\email_professionalism_app\\venv\\Lib\\site-packages\\sklearn\\metrics\\_classification.py:1731: UndefinedMetricWarning: Precision is ill-defined and being set to 0.0 in labels with no predicted samples. Use `zero_division` parameter to control this behavior.\n",
      "  _warn_prf(average, modifier, f\"{metric.capitalize()} is\", result.shape[0])\n",
      "c:\\Users\\bazej\\Desktop\\email_professionalism_app\\venv\\Lib\\site-packages\\sklearn\\metrics\\_classification.py:1731: UndefinedMetricWarning: Precision is ill-defined and being set to 0.0 in labels with no predicted samples. Use `zero_division` parameter to control this behavior.\n",
      "  _warn_prf(average, modifier, f\"{metric.capitalize()} is\", result.shape[0])\n",
      "c:\\Users\\bazej\\Desktop\\email_professionalism_app\\venv\\Lib\\site-packages\\sklearn\\metrics\\_classification.py:1731: UndefinedMetricWarning: Precision is ill-defined and being set to 0.0 in labels with no predicted samples. Use `zero_division` parameter to control this behavior.\n",
      "  _warn_prf(average, modifier, f\"{metric.capitalize()} is\", result.shape[0])\n"
     ]
    }
   ],
   "source": [
    "\n",
    "vectorizer = TfidfVectorizer(max_features=5000)\n",
    "X = vectorizer.fit_transform(df['text_clean'])\n",
    "y = df['label']\n",
    "X_train, X_test, y_train, y_test = train_test_split(X, y, test_size=0.1, random_state=42)\n",
    "\n",
    "clf = LogisticRegression(max_iter=1000)\n",
    "clf.fit(X_train, y_train)\n",
    "y_pred = clf.predict(X_test)\n",
    "print(classification_report(y_test, y_pred))\n"
   ]
  },
  {
   "cell_type": "code",
   "execution_count": 15,
   "id": "7752c4ce",
   "metadata": {},
   "outputs": [
    {
     "data": {
      "text/plain": [
       "['vectorizer.pkl']"
      ]
     },
     "execution_count": 15,
     "metadata": {},
     "output_type": "execute_result"
    }
   ],
   "source": [
    "\n",
    "joblib.dump(clf, \"model.pkl\")\n",
    "joblib.dump(vectorizer, \"vectorizer.pkl\")\n"
   ]
  }
 ],
 "metadata": {
  "kernelspec": {
   "display_name": "venv",
   "language": "python",
   "name": "python3"
  },
  "language_info": {
   "codemirror_mode": {
    "name": "ipython",
    "version": 3
   },
   "file_extension": ".py",
   "mimetype": "text/x-python",
   "name": "python",
   "nbconvert_exporter": "python",
   "pygments_lexer": "ipython3",
   "version": "3.12.4"
  }
 },
 "nbformat": 4,
 "nbformat_minor": 5
}
